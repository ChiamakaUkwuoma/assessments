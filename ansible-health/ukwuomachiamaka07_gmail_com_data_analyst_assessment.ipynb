{
  "nbformat": 4,
  "nbformat_minor": 0,
  "metadata": {
    "colab": {
      "provenance": [],
      "authorship_tag": "ABX9TyPdvehQkJZXL9AFBrgF5M1M",
      "include_colab_link": true
    },
    "kernelspec": {
      "name": "python3",
      "display_name": "Python 3"
    },
    "language_info": {
      "name": "python"
    }
  },
  "cells": [
    {
      "cell_type": "markdown",
      "metadata": {
        "id": "view-in-github",
        "colab_type": "text"
      },
      "source": [
        "<a href=\"https://colab.research.google.com/github/ChiamakaUkwuoma/assessments/blob/main/ansible-health/ukwuomachiamaka07_gmail_com_data_analyst_assessment.ipynb\" target=\"_parent\"><img src=\"https://colab.research.google.com/assets/colab-badge.svg\" alt=\"Open In Colab\"/></a>"
      ]
    },
    {
      "cell_type": "code",
      "source": [
        "\"\"\"\n",
        "NO NEED TO RUN THIS CELL\n",
        "\n",
        "Data Analyst Assessment Task\n",
        "\n",
        "Identify the 10 most popular names given to male and female babies in the United\n",
        "States in 2007 that have significantly decreased in popularity, falling outside\n",
        "the top 100 names in 2020. Provide a brief explanation of your methodology for\n",
        "determining these names.\n",
        "\n",
        "\n",
        "Methodology:\n",
        "1. Download Social Security Administration baby names data.\n",
        "2. Load data for years 2007 and 2020 into pandas DataFrames.\n",
        "3. Compute rank within each gender for both years by descending count.\n",
        "4. Select names with rank <= 50 in 2007 and rank > 100 in 2020.\n",
        "5. Calculate drop amount (2020 rank - 2007 rank) for each qualifying name.\n",
        "6. Sort by largest drops and select top 10 names for each gender.\n",
        "7. Output the lists of names for male and female.\n",
        "\"\"\""
      ],
      "metadata": {
        "colab": {
          "base_uri": "https://localhost:8080/",
          "height": 87
        },
        "id": "Q9YH4J7_5FPW",
        "outputId": "012dcbf2-4ab8-4f74-e3fc-0aa8b6016cbd"
      },
      "execution_count": 12,
      "outputs": [
        {
          "output_type": "execute_result",
          "data": {
            "text/plain": [
              "'\\nNO NEED TO RUN THIS CELL\\n\\nData Analyst Assessment Task\\n\\nIdentify the 10 most popular names given to male and female babies in the United\\nStates in 2007 that have significantly decreased in popularity, falling outside \\nthe top 100 names in 2020. Provide a brief explanation of your methodology for \\ndetermining these names.\\n\\n\\nMethodology:\\n1. Download Social Security Administration baby names data.\\n2. Load data for years 2007 and 2020 into pandas DataFrames.\\n3. Compute rank within each gender for both years by descending count.\\n4. Select names with rank <= 50 in 2007 and rank > 100 in 2020.\\n5. Calculate drop amount (2020 rank - 2007 rank) for each qualifying name.\\n6. Sort by largest drops and select top 10 names for each gender.\\n7. Output the lists of names for male and female.\\n'"
            ],
            "application/vnd.google.colaboratory.intrinsic+json": {
              "type": "string"
            }
          },
          "metadata": {},
          "execution_count": 12
        }
      ]
    },
    {
      "cell_type": "code",
      "source": [
        "!wget -q https://www.ssa.gov/oact/babynames/names.zip"
      ],
      "metadata": {
        "id": "nvfpJAWj3be3"
      },
      "execution_count": 13,
      "outputs": []
    },
    {
      "cell_type": "code",
      "execution_count": 14,
      "metadata": {
        "colab": {
          "base_uri": "https://localhost:8080/"
        },
        "id": "6RhGDOSQvNs7",
        "outputId": "d8e47ce9-2f35-46c5-c66d-3396eb08c59c"
      },
      "outputs": [
        {
          "output_type": "stream",
          "name": "stdout",
          "text": [
            "Looking at top 50 names from 2007 that dropped outside top 100 in 2020:\n",
            "\n",
            "Top 10 male names that dropped most significantly:\n",
            "Brandon      (2007 rank: 31, 2020 rank: 165)\n",
            "Justin       (2007 rank: 45, 2020 rank: 166)\n",
            "Kevin        (2007 rank: 39, 2020 rank: 157)\n",
            "Gavin        (2007 rank: 32, 2020 rank: 142)\n",
            "Tyler        (2007 rank: 21, 2020 rank: 130)\n",
            "Zachary      (2007 rank: 42, 2020 rank: 135)\n",
            "Evan         (2007 rank: 40, 2020 rank: 105)\n",
            "\n",
            "Top 10 female names that dropped most significantly:\n",
            "Kaitlyn      (2007 rank: 44, 2020 rank: 488)\n",
            "Jessica      (2007 rank: 42, 2020 rank: 399)\n",
            "Destiny      (2007 rank: 41, 2020 rank: 347)\n",
            "Alexis       (2007 rank: 19, 2020 rank: 309)\n",
            "Makayla      (2007 rank: 47, 2020 rank: 325)\n",
            "Jocelyn      (2007 rank: 50, 2020 rank: 269)\n",
            "Lauren       (2007 rank: 28, 2020 rank: 232)\n",
            "Sydney       (2007 rank: 37, 2020 rank: 241)\n",
            "Brooke       (2007 rank: 45, 2020 rank: 236)\n",
            "Alexa        (2007 rank: 40, 2020 rank: 230)\n",
            "\n",
            "Male names: ['Brandon', 'Justin', 'Kevin', 'Gavin', 'Tyler', 'Zachary', 'Evan']\n",
            "Female names: ['Kaitlyn', 'Jessica', 'Destiny', 'Alexis', 'Makayla', 'Jocelyn', 'Lauren', 'Sydney', 'Brooke', 'Alexa']\n"
          ]
        }
      ],
      "source": [
        "import pandas as pd\n",
        "import requests\n",
        "import zipfile\n",
        "import io\n",
        "\n",
        "# Read from the downloaded file on disk\n",
        "with zipfile.ZipFile('/content/names.zip') as z:\n",
        "    # Load 2007 and 2020 data\n",
        "    data_frame_2007 = pd.read_csv(z.open('yob2007.txt'), names=['Name', 'Sex', 'Count'])\n",
        "    data_frame_2020 = pd.read_csv(z.open('yob2020.txt'), names=['Name', 'Sex', 'Count'])\n",
        "\n",
        "# Add ranks\n",
        "data_frame_2007['Rank'] = data_frame_2007.groupby('Sex')['Count'].rank(ascending=False)\n",
        "data_frame_2020['Rank'] = data_frame_2020.groupby('Sex')['Count'].rank(ascending=False)\n",
        "\n",
        "merged = pd.merge(data_frame_2007[['Name', 'Sex', 'Rank']],\n",
        "                  data_frame_2020[['Name', 'Sex', 'Rank']],\n",
        "                  on=['Name', 'Sex'],\n",
        "                  suffixes=['_2007', '_2020'])\n",
        "\n",
        "# Since top 10 didn't drop below 100, let's try top 50 names from 2007\n",
        "print(\"Looking at top 50 names from 2007 that dropped outside top 100 in 2020:\")\n",
        "\n",
        "filtered = merged[(merged['Rank_2007'] <= 50) & (merged['Rank_2020'] > 100)]\n",
        "\n",
        "# Sort by biggest drops and get top 10 for each gender\n",
        "male_drops = filtered[filtered['Sex'] == 'M'].copy()\n",
        "female_drops = filtered[filtered['Sex'] == 'F'].copy()\n",
        "\n",
        "# Calculate drop amount for sorting\n",
        "male_drops['Drop'] = male_drops['Rank_2020'] - male_drops['Rank_2007']\n",
        "female_drops['Drop'] = female_drops['Rank_2020'] - female_drops['Rank_2007']\n",
        "\n",
        "# Get top 10 biggest drops for each gender\n",
        "top_male_drops = male_drops.nlargest(10, 'Drop')\n",
        "top_female_drops = female_drops.nlargest(10, 'Drop')\n",
        "\n",
        "print(\"\\nTop 10 male names that dropped most significantly:\")\n",
        "for i, row in top_male_drops.iterrows():\n",
        "    print(f\"{row['Name']:12s} (2007 rank: {int(row['Rank_2007']):2d}, 2020 rank: {int(row['Rank_2020']):3d})\")\n",
        "\n",
        "print(\"\\nTop 10 female names that dropped most significantly:\")\n",
        "for i, row in top_female_drops.iterrows():\n",
        "    print(f\"{row['Name']:12s} (2007 rank: {int(row['Rank_2007']):2d}, 2020 rank: {int(row['Rank_2020']):3d})\")\n",
        "\n",
        "# Get just the names as requested\n",
        "male_names = top_male_drops['Name'].tolist()\n",
        "female_names = top_female_drops['Name'].tolist()\n",
        "\n",
        "print(f\"\\nMale names: {male_names}\")\n",
        "print(f\"Female names: {female_names}\")"
      ]
    }
  ]
}